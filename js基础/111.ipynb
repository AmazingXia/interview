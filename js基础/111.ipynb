{
 "cells": [
  {
   "cell_type": "code",
   "execution_count": 1,
   "metadata": {},
   "outputs": [
    {
     "ename": "",
     "evalue": "",
     "output_type": "error",
     "traceback": [
      "\u001b[1;31mFailed to start the Kernel. \n",
      "\u001b[1;31m/Users/niumengke/.nvm/versions/node/v14.17.0/lib/node_modules/ijavascript/node_modules/node-gyp-build/node-gyp-build.js:60\n",
      "\u001b[1;31m  throw new Error('No native build was found for ' + target + '\\n    loaded from: ' + dir + '\\n')\n",
      "\u001b[1;31m  ^\n",
      "\u001b[1;31m\n",
      "\u001b[1;31mError: No native build was found for platform=darwin arch=x64 runtime=electron abi=83 uv=1 libc=glibc node=14.17.0\n",
      "\u001b[1;31m    loaded from: /Users/niumengke/.nvm/versions/node/v14.17.0/lib/node_modules/ijavascript/node_modules/zeromq\n",
      "\u001b[1;31m\n",
      "\u001b[1;31m    at Function.load.resolve.load.path (/Users/niumengke/.nvm/versions/node/v14.17.0/lib/node_modules/ijavascript/node_modules/node-gyp-build/node-gyp-build.js:60:9)\n",
      "\u001b[1;31m    at load (/Users/niumengke/.nvm/versions/node/v14.17.0/lib/node_modules/ijavascript/node_modules/node-gyp-build/node-gyp-build.js:22:30)\n",
      "\u001b[1;31m    at Object.<anonymous> (/Users/niumengke/.nvm/versions/node/v14.17.0/lib/node_modules/ijavascript/node_modules/zeromq/binding.js:1:43)\n",
      "\u001b[1;31m    at Module._compile (internal/modules/cjs/loader.js:1068:30)\n",
      "\u001b[1;31m    at Object.Module._extensions..js (internal/modules/cjs/loader.js:1097:10)\n",
      "\u001b[1;31m    at Module.load (internal/modules/cjs/loader.js:933:32)\n",
      "\u001b[1;31m    at Function.Module._load (internal/modules/cjs/loader.js:774:14)\n",
      "\u001b[1;31m    at Module.require (internal/modules/cjs/loader.js:957:19)\n",
      "\u001b[1;31m    at require (internal/modules/cjs/helpers.js:88:18)\n",
      "\u001b[1;31m    at Object.<anonymous> (/Users/niumengke/.nvm/versions/node/v14.17.0/lib/node_modules/ijavascript/node_modules/zeromq/lib/index.js:6:11). \n",
      "\u001b[1;31mView Jupyter <a href='command:jupyter.viewOutput'>log</a> for further details."
     ]
    }
   ],
   "source": [
    "console.log(12312)"
   ]
  }
 ],
 "metadata": {
  "kernelspec": {
   "display_name": "JavaScript (Node.js)",
   "language": "javascript",
   "name": "javascript"
  },
  "language_info": {
   "codemirror_mode": {
    "name": "ipython",
    "version": 3
   },
   "file_extension": ".py",
   "mimetype": "text/x-python",
   "name": "javascript",
   "nbconvert_exporter": "python",
   "pygments_lexer": "ipython3",
   "version": "3.9.6"
  }
 },
 "nbformat": 4,
 "nbformat_minor": 2
}
