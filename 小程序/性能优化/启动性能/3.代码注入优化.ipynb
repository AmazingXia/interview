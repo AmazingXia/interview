{
 "cells": [
  {
   "cell_type": "markdown",
   "id": "f916cb19",
   "metadata": {},
   "source": [
    "1. 使用按需注入\n",
    "    ```json  \n",
    "    {\n",
    "      \"lazyCodeLoading\": \"requiredComponents\"\n",
    "    }\n",
    "    ```\n",
    "\n",
    "  - 注意：\n",
    "  - 启用按需注入后，页面 JSON 配置中定义的所有组件和 app.json 中 usingComponents 配置的全局自定义组件，都会被视为页面的依赖并进行注入和加载。建议开发者及时移除 JSON 中未使用自定义组件的声明，并尽量避免在全局声明使用率低的自定义组件，否则可能会影响按需注入的效果。\n",
    "\n",
    "2. 用时注入\n",
    "  - 在开启「按需注入」特性的前提下，「用时注入」可以指定一部分自定义组件不在小程序启动时注入，而是在真正渲染的时候才进行注入。在已经指定 lazyCodeLoading 为 requiredComponents 的情况下，为自定义组件配置 `占位组件`，组件就会自动被视为 `用时注入组件`\n",
    "\n",
    "  - 占位组件\n",
    "  在使用如 分包异步化 或 用时注入 等特性时，自定义组件所引用的其他自定义组件，在刚开始进行渲染时可能处于不可用的状态。此时，为了使渲染过程不被阻塞，不可用的自定义组件需要一个 「占位组件」（Component placeholder）。基础库会用占位组件替代不可用组件进行渲染，在该组件可用后再将占位组件替换回该组件。一个自定义组件的占位组件可以是另一个自定义组件、或一个内置组件。\n",
    "    - 配置   页面或自定义组件对应的 JSON 配置中的 `componentPlaceholder` 字段用于指定占位组件，如：\n",
    "    ```json\n",
    "      {\n",
    "        \"usingComponents\": {\n",
    "          \"comp-a\": \"../comp/compA\",\n",
    "          \"comp-b\": \"../comp/compB\",\n",
    "          \"comp-c\": \"../comp/compC\"\n",
    "        },\n",
    "        \"componentPlaceholder\": {\n",
    "          \"comp-a\": \"view\",\n",
    "          \"comp-b\": \"comp-c\"\n",
    "        }\n",
    "      }\n",
    "    ```\n",
    "\n",
    "3. 启动过程中减少同步 API 的调用\n",
    "  - 会阻塞当前 JS 线程，影响代码执行\n",
    "\n",
    "\n",
    "4. 避免启动过程进行复杂运算\n",
    "\n",
    "\n",
    "\n",
    " "
   ]
  }
 ],
 "metadata": {
  "language_info": {
   "name": "python"
  }
 },
 "nbformat": 4,
 "nbformat_minor": 5
}
