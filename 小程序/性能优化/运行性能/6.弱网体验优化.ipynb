{
 "cells": [
  {
   "cell_type": "markdown",
   "id": "5e6d2027",
   "metadata": {},
   "source": [
    "## 缓存管理器\n",
    "\n",
    "小程序提供了一个无侵入式的缓存管理器，开发者可以不需要修改原有业务代码进行接入。缓存管理器主要有以下几个能力：\n",
    "\n",
    "- 在网络通畅时，对符合规则的网络请求进行缓存；在弱网时对该网络请求使用缓存返回。\n",
    "- 在网络通畅时，对部分 wx api 调用进行缓存；在弱网时对这些 wx api 的调用使用缓存返回。\n",
    "简单来说，缓存管理器可以帮助开发者在不修改小程序主要逻辑的情况下，快速接入缓存能力。接入过程只需要额外编写如下几行代码\n",
    "\n",
    "\n",
    "\n",
    "\n",
    "\n",
    "\n",
    "````js\n",
    "\n",
    "\n",
    "// 创建缓存管理器\n",
    "const cacheManager = wx.createCacheManager({\n",
    "  origin: 'https://weixin.qq.com',\n",
    "})\n",
    "\n",
    "// 添加请求规则\n",
    "cacheManager.addRules([\n",
    "  '/cgi/home',\n",
    "  '/cgi/detail/:id',\n",
    "])\n",
    "\n",
    "// 监听符合规则的 wx.request 请求，默认在弱网时调用 wx.request 即会触发\n",
    "cacheManager.on('request', evt => {\n",
    "  return new Promise((resolve, reject) => {\n",
    "    // 匹配是否存在缓存\n",
    "    const matchRes = cacheManager.match(evt)\n",
    "\n",
    "    if (matchRes && matchRes.data) {\n",
    "      // 使用缓存返回\n",
    "      resolve(matchRes.data)\n",
    "    } else {\n",
    "      // 没有匹配到缓存\n",
    "      reject({errMsg: `catch not found: ${evt.url}`})\n",
    "    }\n",
    "  })\n",
    "})\n",
    "\n",
    "````\n",
    "\n"
   ]
  }
 ],
 "metadata": {
  "language_info": {
   "name": "python"
  }
 },
 "nbformat": 4,
 "nbformat_minor": 5
}
