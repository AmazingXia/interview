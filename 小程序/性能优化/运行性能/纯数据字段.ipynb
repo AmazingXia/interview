{
 "cells": [
  {
   "cell_type": "markdown",
   "id": "8494cf25",
   "metadata": {},
   "source": [
    "指定“纯数据字段”的方法是在 Component 构造器的 options 定义段中指定 pureDataPattern 为一个正则表达式，字段名符合这个正则表达式的字段将成为纯数据字段。"
   ]
  },
  {
   "cell_type": "code",
   "execution_count": null,
   "id": "616522e9",
   "metadata": {},
   "outputs": [],
   "source": [
    "Component({\n",
    "  options: {\n",
    "    pureDataPattern: /^_/ // 指定所有 _ 开头的数据字段为纯数据字段\n",
    "  },\n",
    "  data: {\n",
    "    a: true, // 普通数据字段\n",
    "    _b: true, // 纯数据字段\n",
    "  },\n",
    "  methods: {\n",
    "    myMethod() {\n",
    "      this.data._b // 纯数据字段可以在 this.data 中获取\n",
    "      this.setData({\n",
    "        c: true, // 普通数据字段\n",
    "        _d: true, // 纯数据字段\n",
    "      })\n",
    "    }\n",
    "  }\n",
    "})"
   ]
  }
 ],
 "metadata": {
  "kernelspec": {
   "display_name": "JavaScript (Node.js)",
   "language": "javascript",
   "name": "javascript"
  },
  "language_info": {
   "name": "javascript"
  }
 },
 "nbformat": 4,
 "nbformat_minor": 5
}
